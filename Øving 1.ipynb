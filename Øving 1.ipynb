{
 "cells": [
  {
   "cell_type": "code",
   "execution_count": 2,
   "metadata": {
    "collapsed": true
   },
   "outputs": [],
   "source": [
    "%load_ext autoreload\n",
    "%autoreload\n",
    "\n",
    "from common import euler_error, pp, euler_trapezoid\n",
    "from sympy import init_printing\n",
    "\n",
    "init_printing()\n",
    "pp_euler = pp(euler_error)"
   ]
  },
  {
   "cell_type": "code",
   "execution_count": 4,
   "metadata": {},
   "outputs": [
    {
     "data": {
      "image/png": "[encoded data removed]",
      "text/latex": [
       "$$\\frac{d}{d t} y{\\left (t \\right )} = \\frac{t^{3}}{y^{2}{\\left (t \\right )}}$$"
      ],
      "text/plain": [
       "              3 \n",
       "d            t  \n",
       "──(y(t)) = ─────\n",
       "dt          2   \n",
       "           y (t)"
      ]
     },
     "metadata": {},
     "output_type": "display_data"
    },
    {
     "data": {
      "image/png": "[encoded data removed]",
      "text/latex": [
       "$$y{\\left (t \\right )} = \\sqrt[3]{\\frac{3 t^{4}}{4} + 1}$$"
      ],
      "text/plain": [
       "            __________\n",
       "           ╱    4     \n",
       "          ╱  3⋅t      \n",
       "y(t) = 3 ╱   ──── + 1 \n",
       "       ╲╱     4       "
      ]
     },
     "metadata": {},
     "output_type": "display_data"
    },
    {
     "name": "stdout",
     "output_type": "stream",
     "text": [
      "i  | t   | w                  | error                 \n",
      "---+-----+--------------------+-----------------------\n",
      "0  | 0   | 1                  | 0                     \n",
      "1  | 0.1 | 1                  | 2.4999375026091286e-05\n",
      "2  | 0.2 | 1.0001             | 0.00029984010658146154\n",
      "3  | 0.3 | 1.0008998400239968 | 0.0011210731348108016 \n",
      "4  | 0.4 | 1.0035949874386747 | 0.0027644839531697496 \n",
      "5  | 0.5 | 1.0099492185549162 | 0.0054378065565037215 \n",
      "6  | 0.6 | 1.0222041514646962 | 0.009199345735735776  \n",
      "7  | 0.7 | 1.0428759598319033 | 0.013868233126348883  \n",
      "8  | 0.8 | 1.0744135719473906 | 0.01899048190889463   \n",
      "9  | 0.9 | 1.1187669793450852 | 0.02392773343351462   \n",
      "10 | 1   | 1.1770105845130252 | 0.028060547574589867  \n"
     ]
    }
   ],
   "source": [
    "# 6.1 CP1\n",
    "\n",
    "# f = lambda t, y: t\n",
    "# f = lambda t, y: (t**2)*y\n",
    "# f = lambda t, y: 2*(t+1)*y\n",
    "# f = lambda t, y: 5*(t**4)*y\n",
    "# f = lambda t, y: 1/(y**2)\n",
    "f = lambda t, y: (t**3)/(y**2)\n",
    "\n",
    "pp_euler(f, h=0.1, t=1, iv=(0, 1))"
   ]
  },
  {
   "cell_type": "code",
   "execution_count": 6,
   "metadata": {},
   "outputs": [],
   "source": [
    "display()"
   ]
  },
  {
   "cell_type": "code",
   "execution_count": null,
   "metadata": {
    "collapsed": true
   },
   "outputs": [],
   "source": [
    "# 6.2 CP1\n",
    "\n",
    "f = lambda t, y: t\n",
    "# f = lambda t, y: (t**2)*y\n",
    "# f = lambda t, y: 2*(t+1)*y\n",
    "# f = lambda t, y: 5*(t**4)*y\n",
    "# f = lambda t, y: 1/(y**2)\n",
    "# f = lambda t, y: (t**3)/(y**2)\n",
    "\n",
    "pp_euler(f, h=0.1, t=1, iv=(0, 1), method=euler_trapezoid)"
   ]
  }
 ],
 "metadata": {
  "kernelspec": {
   "display_name": "Python 3",
   "language": "python",
   "name": "python3"
  },
  "language_info": {
   "codemirror_mode": {
    "name": "ipython",
    "version": 3
   },
   "file_extension": ".py",
   "mimetype": "text/x-python",
   "name": "python",
   "nbconvert_exporter": "python",
   "pygments_lexer": "ipython3",
   "version": "3.6.2"
  }
 },
 "nbformat": 4,
 "nbformat_minor": 1
}
